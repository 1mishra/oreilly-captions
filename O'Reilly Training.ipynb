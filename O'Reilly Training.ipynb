{
 "cells": [
  {
   "cell_type": "code",
   "execution_count": 1,
   "metadata": {
    "collapsed": false,
    "deletable": true,
    "editable": true
   },
   "outputs": [
    {
     "name": "stderr",
     "output_type": "stream",
     "text": [
      "Using TensorFlow backend.\n"
     ]
    }
   ],
   "source": [
    "import math\n",
    "import os\n",
    "import tensorflow as tf\n",
    "import numpy as np\n",
    "import pandas as pd\n",
    "import pickle\n",
    "import cv2\n",
    "import skimage\n",
    "\n",
    "import tensorflow.python.platform\n",
    "from keras.preprocessing import sequence\n",
    "from collections import Counter"
   ]
  },
  {
   "cell_type": "code",
   "execution_count": 2,
   "metadata": {
    "collapsed": true,
    "deletable": true,
    "editable": true
   },
   "outputs": [],
   "source": [
    "model_path = './models/tensorflow'\n",
    "feature_path = './data/feats.npy'\n",
    "annotation_path = './data/results_20130124.token'"
   ]
  },
  {
   "cell_type": "markdown",
   "metadata": {
    "deletable": true,
    "editable": true
   },
   "source": [
    "## Loading data\n",
    "Parse the image embedding features from the Flickr30k dataset `./data/feats.npy`, and load the caption data via `pandas` from `./data/results_20130124.token`"
   ]
  },
  {
   "cell_type": "code",
   "execution_count": 3,
   "metadata": {
    "collapsed": true,
    "deletable": true,
    "editable": true
   },
   "outputs": [],
   "source": [
    "def get_data(annotation_path, feature_path):\n",
    "     annotations = pd.read_table(annotation_path, sep='\\t', header=None, names=['image', 'caption'])\n",
    "     return np.load(feature_path,'r'), annotations['caption'].values"
   ]
  },
  {
   "cell_type": "code",
   "execution_count": 4,
   "metadata": {
    "collapsed": false,
    "deletable": true,
    "editable": true
   },
   "outputs": [],
   "source": [
    "feats, captions = get_data(annotation_path, feature_path)"
   ]
  },
  {
   "cell_type": "code",
   "execution_count": 5,
   "metadata": {
    "collapsed": false,
    "deletable": true,
    "editable": true
   },
   "outputs": [
    {
     "name": "stdout",
     "output_type": "stream",
     "text": [
      "(158915, 4096)\n",
      "(158915,)\n"
     ]
    }
   ],
   "source": [
    "print(feats.shape)\n",
    "print(captions.shape)"
   ]
  },
  {
   "cell_type": "code",
   "execution_count": 6,
   "metadata": {
    "collapsed": false,
    "deletable": true,
    "editable": true
   },
   "outputs": [
    {
     "name": "stdout",
     "output_type": "stream",
     "text": [
      "Two young guys with shaggy hair look at their hands while hanging out in the yard .\n"
     ]
    }
   ],
   "source": [
    "print(captions[0])"
   ]
  },
  {
   "cell_type": "code",
   "execution_count": 7,
   "metadata": {
    "collapsed": true,
    "deletable": true,
    "editable": true
   },
   "outputs": [],
   "source": [
    "def preProBuildWordVocab(sentence_iterator, word_count_threshold=30): # function from Andre Karpathy's NeuralTalk\n",
    "    print('Create word counts using word count threshold', word_count_threshold)\n",
    "    word_counts = {}\n",
    "    nsents = 0\n",
    "    for sent in sentence_iterator:\n",
    "      nsents += 1\n",
    "      for w in sent.lower().split(' '):\n",
    "        word_counts[w] = word_counts.get(w, 0) + 1\n",
    "    vocab = [w for w in word_counts if word_counts[w] >= word_count_threshold]\n",
    "    print('Filtered vocabulary from %d to %d' % (len(word_counts), len(vocab)))\n",
    "\n",
    "    ixtoword = {}\n",
    "    ixtoword[0] = '.'\n",
    "    wordtoix = {}\n",
    "    wordtoix['#START#'] = 0\n",
    "    ix = 1\n",
    "    for w in vocab:\n",
    "      wordtoix[w] = ix\n",
    "      ixtoword[ix] = w\n",
    "      ix += 1\n",
    "\n",
    "    word_counts['.'] = nsents\n",
    "    bias_init_vector = np.array([1.0*word_counts[ixtoword[i]] for i in ixtoword])\n",
    "    bias_init_vector /= np.sum(bias_init_vector)\n",
    "    bias_init_vector = np.log(bias_init_vector)\n",
    "    bias_init_vector -= np.max(bias_init_vector)\n",
    "    return wordtoix, ixtoword, bias_init_vector.astype(np.float32)"
   ]
  },
  {
   "cell_type": "code",
   "execution_count": 8,
   "metadata": {
    "collapsed": true,
    "deletable": true,
    "editable": true
   },
   "outputs": [],
   "source": [
    "def crop_image(x, height=227, width=227, flt=True): #boilerplate image reshaping code\n",
    "    img = cv2.imread(x)\n",
    "    if flt:\n",
    "        img = img.astype(np.float32)\n",
    "\n",
    "    if len(image.shape) == 2:\n",
    "        img = np.tile(img[:,:,None], 3)\n",
    "    elif len(img.shape) == 4:\n",
    "        img = img[:,:,:,0]\n",
    "\n",
    "    h, w, rgb = img.shape\n",
    "    if w == h:\n",
    "        resized_image = cv2.resize(img, (height,width))\n",
    "\n",
    "    elif h < w:\n",
    "        resized_img = cv2.resize(img, (int(w * float(height)/h), width))\n",
    "        crop_len = int((resized_img.shape[1] - height) / 2)\n",
    "        resized_img = resized_img[:,crop_len:resized_img.shape[1] - crop_len]\n",
    "\n",
    "    else:\n",
    "        resized_img = cv2.resize(img, (height, int(h * float(width) / w)))\n",
    "        crop_len = int((resized_img.shape[0] - width) / 2)\n",
    "        resized_img = resized_img[crop_len:resized_img.shape[0] - crop_len,:]\n",
    "\n",
    "    return cv2.resize(resized_img, (height, width))"
   ]
  },
  {
   "cell_type": "code",
   "execution_count": 9,
   "metadata": {
    "collapsed": false,
    "deletable": true,
    "editable": true
   },
   "outputs": [],
   "source": [
    "class Caption_Generator():\n",
    "    def __init__(self, dim_in, dim_embed, dim_hidden, batch_size, n_lstm_steps, n_words, init_b):\n",
    "\n",
    "        self.dim_in = dim_in\n",
    "        self.dim_embed = dim_embed\n",
    "        self.dim_hidden = dim_hidden\n",
    "        self.batch_size = batch_size\n",
    "        self.n_lstm_steps = n_lstm_steps\n",
    "        self.n_words = n_words\n",
    "\n",
    "        with tf.device(\"/cpu:0\"):\n",
    "            self.word_embedding = tf.Variable(tf.random_uniform([self.n_words, self.dim_embed], -0.1, 0.1), name='word_embedding')\n",
    "\n",
    "        self.embedding_bias = tf.Variable(tf.zeros([dim_embed]), name='embedding_bias')\n",
    "\n",
    "        self.lstm = tf.contrib.rnn.BasicLSTMCell(dim_hidden)\n",
    "        \n",
    "        self.img_embedding = tf.Variable(tf.random_uniform([dim_in, dim_hidden], -0.1, 0.1), name='img_embedding')\n",
    "        self.img_embedding_bias = tf.Variable(tf.zeros([dim_hidden]), name='img_embedding_bias')\n",
    "\n",
    "        self.word_encoding = tf.Variable(tf.random_uniform([dim_hidden, n_words], -0.1, 0.1), name='word_encoding')\n",
    "\n",
    "        self.word_encoding_bias = tf.Variable(init_b, name='word_encoding_bias')\n",
    "\n",
    "    def build_model(self):\n",
    "\n",
    "        img = tf.placeholder(tf.float32, [self.batch_size, self.dim_in])\n",
    "        caption_placeholder = tf.placeholder(tf.int32, [self.batch_size, self.n_lstm_steps])\n",
    "        mask = tf.placeholder(tf.float32, [self.batch_size, self.n_lstm_steps])\n",
    "\n",
    "        image_embedding = tf.matmul(img, self.img_embedding) + self.img_embedding_bias\n",
    "        \n",
    "        state = self.lstm.zero_state(self.batch_size, dtype=tf.float32)\n",
    "\n",
    "        loss = 0.0\n",
    "        with tf.variable_scope(\"RNN\"):\n",
    "            for i in range(self.n_lstm_steps): \n",
    "                if i > 0:\n",
    "                    with tf.device(\"/cpu:0\"):\n",
    "                        current_embedding = tf.nn.embedding_lookup(self.word_embedding, caption_placeholder[:,i-1]) + self.embedding_bias\n",
    "                else:\n",
    "                     current_embedding = image_embedding\n",
    "                if i > 0: \n",
    "                    tf.get_variable_scope().reuse_variables()\n",
    "\n",
    "                out, state = self.lstm(current_embedding, state)\n",
    "\n",
    "                print (out,self.word_encoding,self.word_encoding_bias)\n",
    "                \n",
    "                if i > 0: \n",
    "#                     print(self.batch_size)\n",
    "                    labels = tf.expand_dims(caption_placeholder[:, i], 1)\n",
    "#                     print(labels)\n",
    "                    ix_range=tf.range(0, self.batch_size, 1)\n",
    "#                     print(ix_range)\n",
    "                    ixs = tf.expand_dims(ix_range, 1)\n",
    "#                     print (ixs)\n",
    "                    concat = tf.concat([ixs, labels],1)\n",
    "                    onehot = tf.sparse_to_dense(\n",
    "                            concat, tf.stack([self.batch_size, self.n_words]), 1.0, 0.0)\n",
    "\n",
    "                    logit = tf.matmul(out, self.word_encoding) + self.word_encoding_bias\n",
    "                    xentropy = tf.nn.softmax_cross_entropy_with_logits(logits=logit, labels=onehot)\n",
    "                    xentropy = xentropy * mask[:,i]\n",
    "\n",
    "                    loss = tf.reduce_sum(xentropy)\n",
    "                    total_loss = loss\n",
    "\n",
    "            total_loss = total_loss / tf.reduce_sum(mask[:,1:])\n",
    "            return loss, img,  caption_placeholder, mask\n"
   ]
  },
  {
   "cell_type": "code",
   "execution_count": null,
   "metadata": {
    "collapsed": false,
    "deletable": true,
    "editable": true
   },
   "outputs": [],
   "source": [
    "### Parameters ###\n",
    "dim_embed = 256\n",
    "dim_hidden = 256\n",
    "dim_in = 4096\n",
    "batch_size = 128\n",
    "momentum = 0.9\n",
    "n_epochs = 25\n",
    "\n",
    "def train(learning_rate=0.001, continue_training=False):\n",
    "    \n",
    "    tf.reset_default_graph()\n",
    "\n",
    "    feats, captions = get_data(annotation_path, feature_path)\n",
    "    wordtoix, ixtoword, init_b = preProBuildWordVocab(captions)\n",
    "\n",
    "    np.save('data/ixtoword', ixtoword)\n",
    "\n",
    "    index = (np.arange(len(feats)/1000).astype(int))\n",
    "    print (index.dtype)\n",
    "    np.random.shuffle(index)\n",
    "\n",
    "    feats = feats[index]\n",
    "    captions = captions[index]\n",
    "\n",
    "    sess = tf.InteractiveSession()\n",
    "    n_words = len(wordtoix)\n",
    "    maxlen = np.max( [x for x in map(lambda x: len(x.split(' ')), captions) ] )\n",
    "    caption_generator = Caption_Generator(dim_in, dim_hidden, dim_embed, batch_size, maxlen+2, n_words, init_b)\n",
    "\n",
    "    loss, image, sentence, mask = caption_generator.build_model()\n",
    "\n",
    "    saver = tf.train.Saver(max_to_keep=100)\n",
    "    train_op = tf.train.AdamOptimizer(learning_rate).minimize(loss)\n",
    "    tf.initialize_all_variables().run()\n",
    "\n",
    "    if continue_training:\n",
    "        saver.restore(sess,tf.train.latest_checkpoint(model_path))\n",
    "\n",
    "    for epoch in range(n_epochs):\n",
    "        for start, end in zip( range(0, len(feats), batch_size), range(batch_size, len(feats), batch_size)):\n",
    "\n",
    "            current_feats = feats[start:end]\n",
    "            current_captions = captions[start:end]\n",
    "\n",
    "            current_caption_ind = [x for x in map(lambda cap: [wordtoix[word] for word in cap.lower().split(' ')[:-1] if word in wordtoix], current_captions)]\n",
    "\n",
    "            current_caption_matrix = sequence.pad_sequences(current_caption_ind, padding='post', maxlen=maxlen+1)\n",
    "            current_caption_matrix = np.hstack( [np.full( (len(current_caption_matrix),1), 0), current_caption_matrix] ).astype(int)\n",
    "\n",
    "            current_mask_matrix = np.zeros((current_caption_matrix.shape[0], current_caption_matrix.shape[1]))\n",
    "            nonzeros = np.array([x for x in map(lambda x: (x != 0).sum()+2, current_caption_matrix )])\n",
    "\n",
    "            for ind, row in enumerate(current_mask_matrix):\n",
    "                row[:nonzeros[ind]] = 1\n",
    "\n",
    "            _, loss_value = sess.run([train_op, loss], feed_dict={\n",
    "                image: current_feats,\n",
    "                sentence : current_caption_matrix,\n",
    "                mask : current_mask_matrix\n",
    "                })\n",
    "\n",
    "            print(\"Current Cost: \", loss_value, \"\\t Epoch {}/{}\".format(epoch, n_epochs), \"\\t Iter {}/{}\".format(start,len(feats)))\n",
    "\n",
    "        print(\"Saving the model from epoch: \", epoch)\n",
    "        saver.save(sess, os.path.join(model_path, 'model'), global_step=epoch+9)\n",
    "        learning_rate *= 0.95"
   ]
  },
  {
   "cell_type": "code",
   "execution_count": null,
   "metadata": {
    "collapsed": false,
    "deletable": true,
    "editable": true
   },
   "outputs": [
    {
     "name": "stdout",
     "output_type": "stream",
     "text": [
      "Create word counts using word count threshold 30\n",
      "Filtered vocabulary from 20326 to 2942\n",
      "int64\n",
      "Tensor(\"RNN/basic_lstm_cell/mul_2:0\", shape=(128, 256), dtype=float32) Tensor(\"word_encoding/read:0\", shape=(256, 2943), dtype=float32) Tensor(\"word_encoding_bias/read:0\", shape=(2943,), dtype=float32)\n",
      "Tensor(\"RNN/basic_lstm_cell_1/mul_2:0\", shape=(128, 256), dtype=float32) Tensor(\"word_encoding/read:0\", shape=(256, 2943), dtype=float32) Tensor(\"word_encoding_bias/read:0\", shape=(2943,), dtype=float32)\n",
      "Tensor(\"RNN/basic_lstm_cell_2/mul_2:0\", shape=(128, 256), dtype=float32) Tensor(\"word_encoding/read:0\", shape=(256, 2943), dtype=float32) Tensor(\"word_encoding_bias/read:0\", shape=(2943,), dtype=float32)\n",
      "Tensor(\"RNN/basic_lstm_cell_3/mul_2:0\", shape=(128, 256), dtype=float32) Tensor(\"word_encoding/read:0\", shape=(256, 2943), dtype=float32) Tensor(\"word_encoding_bias/read:0\", shape=(2943,), dtype=float32)\n",
      "Tensor(\"RNN/basic_lstm_cell_4/mul_2:0\", shape=(128, 256), dtype=float32) Tensor(\"word_encoding/read:0\", shape=(256, 2943), dtype=float32) Tensor(\"word_encoding_bias/read:0\", shape=(2943,), dtype=float32)\n",
      "Tensor(\"RNN/basic_lstm_cell_5/mul_2:0\", shape=(128, 256), dtype=float32) Tensor(\"word_encoding/read:0\", shape=(256, 2943), dtype=float32) Tensor(\"word_encoding_bias/read:0\", shape=(2943,), dtype=float32)\n",
      "Tensor(\"RNN/basic_lstm_cell_6/mul_2:0\", shape=(128, 256), dtype=float32) Tensor(\"word_encoding/read:0\", shape=(256, 2943), dtype=float32) Tensor(\"word_encoding_bias/read:0\", shape=(2943,), dtype=float32)\n",
      "Tensor(\"RNN/basic_lstm_cell_7/mul_2:0\", shape=(128, 256), dtype=float32) Tensor(\"word_encoding/read:0\", shape=(256, 2943), dtype=float32) Tensor(\"word_encoding_bias/read:0\", shape=(2943,), dtype=float32)\n",
      "Tensor(\"RNN/basic_lstm_cell_8/mul_2:0\", shape=(128, 256), dtype=float32) Tensor(\"word_encoding/read:0\", shape=(256, 2943), dtype=float32) Tensor(\"word_encoding_bias/read:0\", shape=(2943,), dtype=float32)\n",
      "Tensor(\"RNN/basic_lstm_cell_9/mul_2:0\", shape=(128, 256), dtype=float32) Tensor(\"word_encoding/read:0\", shape=(256, 2943), dtype=float32) Tensor(\"word_encoding_bias/read:0\", shape=(2943,), dtype=float32)\n",
      "Tensor(\"RNN/basic_lstm_cell_10/mul_2:0\", shape=(128, 256), dtype=float32) Tensor(\"word_encoding/read:0\", shape=(256, 2943), dtype=float32) Tensor(\"word_encoding_bias/read:0\", shape=(2943,), dtype=float32)\n",
      "Tensor(\"RNN/basic_lstm_cell_11/mul_2:0\", shape=(128, 256), dtype=float32) Tensor(\"word_encoding/read:0\", shape=(256, 2943), dtype=float32) Tensor(\"word_encoding_bias/read:0\", shape=(2943,), dtype=float32)\n",
      "Tensor(\"RNN/basic_lstm_cell_12/mul_2:0\", shape=(128, 256), dtype=float32) Tensor(\"word_encoding/read:0\", shape=(256, 2943), dtype=float32) Tensor(\"word_encoding_bias/read:0\", shape=(2943,), dtype=float32)\n",
      "Tensor(\"RNN/basic_lstm_cell_13/mul_2:0\", shape=(128, 256), dtype=float32) Tensor(\"word_encoding/read:0\", shape=(256, 2943), dtype=float32) Tensor(\"word_encoding_bias/read:0\", shape=(2943,), dtype=float32)\n",
      "Tensor(\"RNN/basic_lstm_cell_14/mul_2:0\", shape=(128, 256), dtype=float32) Tensor(\"word_encoding/read:0\", shape=(256, 2943), dtype=float32) Tensor(\"word_encoding_bias/read:0\", shape=(2943,), dtype=float32)\n",
      "Tensor(\"RNN/basic_lstm_cell_15/mul_2:0\", shape=(128, 256), dtype=float32) Tensor(\"word_encoding/read:0\", shape=(256, 2943), dtype=float32) Tensor(\"word_encoding_bias/read:0\", shape=(2943,), dtype=float32)\n",
      "Tensor(\"RNN/basic_lstm_cell_16/mul_2:0\", shape=(128, 256), dtype=float32) Tensor(\"word_encoding/read:0\", shape=(256, 2943), dtype=float32) Tensor(\"word_encoding_bias/read:0\", shape=(2943,), dtype=float32)\n",
      "Tensor(\"RNN/basic_lstm_cell_17/mul_2:0\", shape=(128, 256), dtype=float32) Tensor(\"word_encoding/read:0\", shape=(256, 2943), dtype=float32) Tensor(\"word_encoding_bias/read:0\", shape=(2943,), dtype=float32)\n",
      "Tensor(\"RNN/basic_lstm_cell_18/mul_2:0\", shape=(128, 256), dtype=float32) Tensor(\"word_encoding/read:0\", shape=(256, 2943), dtype=float32) Tensor(\"word_encoding_bias/read:0\", shape=(2943,), dtype=float32)\n",
      "Tensor(\"RNN/basic_lstm_cell_19/mul_2:0\", shape=(128, 256), dtype=float32) Tensor(\"word_encoding/read:0\", shape=(256, 2943), dtype=float32) Tensor(\"word_encoding_bias/read:0\", shape=(2943,), dtype=float32)\n",
      "Tensor(\"RNN/basic_lstm_cell_20/mul_2:0\", shape=(128, 256), dtype=float32) Tensor(\"word_encoding/read:0\", shape=(256, 2943), dtype=float32) Tensor(\"word_encoding_bias/read:0\", shape=(2943,), dtype=float32)\n",
      "Tensor(\"RNN/basic_lstm_cell_21/mul_2:0\", shape=(128, 256), dtype=float32) Tensor(\"word_encoding/read:0\", shape=(256, 2943), dtype=float32) Tensor(\"word_encoding_bias/read:0\", shape=(2943,), dtype=float32)\n",
      "Tensor(\"RNN/basic_lstm_cell_22/mul_2:0\", shape=(128, 256), dtype=float32) Tensor(\"word_encoding/read:0\", shape=(256, 2943), dtype=float32) Tensor(\"word_encoding_bias/read:0\", shape=(2943,), dtype=float32)\n",
      "Tensor(\"RNN/basic_lstm_cell_23/mul_2:0\", shape=(128, 256), dtype=float32) Tensor(\"word_encoding/read:0\", shape=(256, 2943), dtype=float32) Tensor(\"word_encoding_bias/read:0\", shape=(2943,), dtype=float32)\n",
      "Tensor(\"RNN/basic_lstm_cell_24/mul_2:0\", shape=(128, 256), dtype=float32) Tensor(\"word_encoding/read:0\", shape=(256, 2943), dtype=float32) Tensor(\"word_encoding_bias/read:0\", shape=(2943,), dtype=float32)\n",
      "Tensor(\"RNN/basic_lstm_cell_25/mul_2:0\", shape=(128, 256), dtype=float32) Tensor(\"word_encoding/read:0\", shape=(256, 2943), dtype=float32) Tensor(\"word_encoding_bias/read:0\", shape=(2943,), dtype=float32)\n",
      "Tensor(\"RNN/basic_lstm_cell_26/mul_2:0\", shape=(128, 256), dtype=float32) Tensor(\"word_encoding/read:0\", shape=(256, 2943), dtype=float32) Tensor(\"word_encoding_bias/read:0\", shape=(2943,), dtype=float32)\n",
      "Tensor(\"RNN/basic_lstm_cell_27/mul_2:0\", shape=(128, 256), dtype=float32) Tensor(\"word_encoding/read:0\", shape=(256, 2943), dtype=float32) Tensor(\"word_encoding_bias/read:0\", shape=(2943,), dtype=float32)\n",
      "Tensor(\"RNN/basic_lstm_cell_28/mul_2:0\", shape=(128, 256), dtype=float32) Tensor(\"word_encoding/read:0\", shape=(256, 2943), dtype=float32) Tensor(\"word_encoding_bias/read:0\", shape=(2943,), dtype=float32)\n",
      "Tensor(\"RNN/basic_lstm_cell_29/mul_2:0\", shape=(128, 256), dtype=float32) Tensor(\"word_encoding/read:0\", shape=(256, 2943), dtype=float32) Tensor(\"word_encoding_bias/read:0\", shape=(2943,), dtype=float32)\n",
      "Tensor(\"RNN/basic_lstm_cell_30/mul_2:0\", shape=(128, 256), dtype=float32) Tensor(\"word_encoding/read:0\", shape=(256, 2943), dtype=float32) Tensor(\"word_encoding_bias/read:0\", shape=(2943,), dtype=float32)\n",
      "WARNING:tensorflow:From <ipython-input-10-73e4819e5b09>:34: initialize_all_variables (from tensorflow.python.ops.variables) is deprecated and will be removed after 2017-03-02.\n",
      "Instructions for updating:\n",
      "Use `tf.global_variables_initializer` instead.\n"
     ]
    }
   ],
   "source": [
    "try:\n",
    "    train()\n",
    "except KeyboardInterrupt:\n",
    "    print('Exiting Training')"
   ]
  },
  {
   "cell_type": "code",
   "execution_count": null,
   "metadata": {
    "collapsed": false,
    "deletable": true,
    "editable": true
   },
   "outputs": [],
   "source": [
    "tf.contrib.rnn.BasicLSTMCell"
   ]
  },
  {
   "cell_type": "code",
   "execution_count": null,
   "metadata": {
    "collapsed": true,
    "deletable": true,
    "editable": true
   },
   "outputs": [],
   "source": []
  }
 ],
 "metadata": {
  "kernelspec": {
   "display_name": "Python 3",
   "language": "python",
   "name": "python3"
  },
  "language_info": {
   "codemirror_mode": {
    "name": "ipython",
    "version": 3
   },
   "file_extension": ".py",
   "mimetype": "text/x-python",
   "name": "python",
   "nbconvert_exporter": "python",
   "pygments_lexer": "ipython3",
   "version": "3.4.3"
  }
 },
 "nbformat": 4,
 "nbformat_minor": 1
}
